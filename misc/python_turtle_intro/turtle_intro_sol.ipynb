{
 "cells": [
  {
   "cell_type": "code",
   "execution_count": null,
   "metadata": {},
   "outputs": [],
   "source": [
    "# Drawing with Turtle Graphics"
   ]
  },
  {
   "cell_type": "markdown",
   "metadata": {},
   "source": [
    "To get started, if Python is not already installed on your computer, then\n",
    "[download it from the official website: https://www.python.org/downloads/](https://www.python.org/downloads/).\n",
    "\n",
    "It should include the IDLE program, and after it is installed you should run\n",
    "IDLE to start writing Python code.\n",
    "\n",
    "To use turtle graphics in Python you must put `import turtle` at the start of\n",
    "your program.\n",
    "\n",
    "Here are the turtle command you'll need to know:\n",
    "- `turtle.forward(distance)` moves the turtle forward `distance` pixels.\n",
    "- `turtle.right(angle)` turns the turtle right (clockwise) `angle` degrees.\n",
    "- `turtle.left(angle)` turns the turtle left (counter-clockwise) `angle`\n",
    "  degrees.\n",
    "- `turtle.penup()` lifts the pen up so the turtle doesn't draw while moving.\n",
    "- `turtle.pendown()` puts the pen down so the turtle does draw while moving.\n",
    "- `turtle.reset()` clears the screen and moves the turtle back to the center.\n",
    "\n",
    "While necessary for the problems below, you can use these commands to customize\n",
    "your drawings:\n",
    "- `turtle.color(color)` changes the color of the pen to `color`. For example,\n",
    "  `turtle.color(\"red\")` sets the pen color to red.\n",
    "- `turtle.pensize(width)` changes the width of the pen to `width`. For example,\n",
    "  `turtle.pensize(5)` sets the pen width to 5 pixels.\n",
    "- `turtle.speed(speed)` changes the drawing speed of the turtle. For example,\n",
    "  `turtle.speed(1)` is slowest, and `turtle.speed(10)` is fast.\n",
    "  `turtle.speed(0)` is the fastest and doesn't show the turtle moving."
   ]
  },
  {
   "cell_type": "markdown",
   "metadata": {},
   "source": [
    "## Problem 1: Draw a Square"
   ]
  },
  {
   "cell_type": "markdown",
   "metadata": {},
   "source": [
    "<img src=\"squareAnimation.gif\" width=\"100\"/>"
   ]
  },
  {
   "cell_type": "code",
   "execution_count": 2,
   "metadata": {},
   "outputs": [],
   "source": [
    "import turtle\n",
    "\n",
    "turtle.reset()\n",
    "turtle.pencolor('purple')\n",
    "turtle.pensize(5)\n",
    "\n",
    "# draw a square\n",
    "turtle.forward(100)\n",
    "turtle.left(90)\n",
    "turtle.forward(100)\n",
    "turtle.left(90)\n",
    "turtle.forward(100)\n",
    "turtle.left(90)\n",
    "turtle.forward(100)\n",
    "turtle.left(90)"
   ]
  },
  {
   "cell_type": "markdown",
   "metadata": {},
   "source": [
    "## Problem 2: Draw a Square Using a for-loop"
   ]
  },
  {
   "cell_type": "code",
   "execution_count": 5,
   "metadata": {},
   "outputs": [],
   "source": [
    "import turtle\n",
    "\n",
    "turtle.reset()\n",
    "turtle.pencolor('purple')\n",
    "turtle.pensize(5)\n",
    "\n",
    "# draw a square\n",
    "for i in range(4):\n",
    "    turtle.forward(100)\n",
    "    turtle.left(90)"
   ]
  },
  {
   "cell_type": "markdown",
   "metadata": {},
   "source": [
    "## Problem 3: Draw a Square Using a Function"
   ]
  },
  {
   "cell_type": "code",
   "execution_count": 4,
   "metadata": {},
   "outputs": [],
   "source": [
    "import turtle\n",
    "\n",
    "def square(side_len):\n",
    "    for i in range(4):\n",
    "        turtle.forward(side_len)\n",
    "        turtle.left(90)\n",
    "\n",
    "turtle.reset()\n",
    "turtle.pencolor('purple')\n",
    "turtle.pensize(5)\n",
    "\n",
    "square(100)\n",
    "square(50)\n",
    "square(25)"
   ]
  },
  {
   "cell_type": "markdown",
   "metadata": {},
   "source": [
    "## Problem 4: Draw an Equilateral Triangle"
   ]
  },
  {
   "cell_type": "markdown",
   "metadata": {},
   "source": [
    "<img src=\"triangleAnimation.gif\" width=\"100\"/>"
   ]
  },
  {
   "cell_type": "code",
   "execution_count": 3,
   "metadata": {},
   "outputs": [],
   "source": [
    "import turtle\n",
    "\n",
    "turtle.reset()\n",
    "turtle.pencolor('purple')\n",
    "turtle.pensize(5)\n",
    "\n",
    "turtle.forward(100)\n",
    "turtle.left(120)\n",
    "turtle.forward(100)\n",
    "turtle.left(120)\n",
    "turtle.forward(100)\n",
    "turtle.left(120)"
   ]
  },
  {
   "cell_type": "markdown",
   "metadata": {},
   "source": [
    "## Problem 5: Draw an Equilateral Triangle Using a for-loop"
   ]
  },
  {
   "cell_type": "code",
   "execution_count": 6,
   "metadata": {},
   "outputs": [],
   "source": [
    "import turtle\n",
    "\n",
    "turtle.reset()\n",
    "turtle.pencolor('purple')\n",
    "turtle.pensize(5)\n",
    "\n",
    "for i in range(3):\n",
    "    turtle.forward(100)\n",
    "    turtle.left(120)"
   ]
  },
  {
   "cell_type": "markdown",
   "metadata": {},
   "source": [
    "## Problem 6: Draw an Equilateral Triangle Using a Function"
   ]
  },
  {
   "cell_type": "code",
   "execution_count": 8,
   "metadata": {},
   "outputs": [],
   "source": [
    "import turtle\n",
    "\n",
    "def triangle(side_len):\n",
    "    for i in range(3):\n",
    "        turtle.forward(side_len)\n",
    "        turtle.left(120)\n",
    "\n",
    "turtle.reset()\n",
    "turtle.pencolor('purple')\n",
    "turtle.pensize(5)\n",
    "\n",
    "triangle(100)\n",
    "turtle.left(60)\n",
    "triangle(50)\n",
    "turtle.left(60)\n",
    "triangle(25)"
   ]
  },
  {
   "cell_type": "markdown",
   "metadata": {},
   "source": [
    "## Problem 7: Draw a House Using the Square and Triangle Functions"
   ]
  },
  {
   "cell_type": "markdown",
   "metadata": {},
   "source": [
    "<img src=\"houseAnimation.gif\" width=\"100\"/>"
   ]
  },
  {
   "cell_type": "code",
   "execution_count": 11,
   "metadata": {},
   "outputs": [],
   "source": [
    "import turtle\n",
    "\n",
    "turtle.reset()\n",
    "turtle.pencolor('purple')\n",
    "turtle.pensize(5)\n",
    "\n",
    "# draw the main house\n",
    "square(100)\n",
    "\n",
    "# move the turtle to the roof position\n",
    "turtle.left(90)\n",
    "turtle.penup()\n",
    "turtle.forward(100)\n",
    "turtle.pendown()\n",
    "\n",
    "# draw the roof\n",
    "turtle.right(90)\n",
    "triangle(100)"
   ]
  },
  {
   "cell_type": "markdown",
   "metadata": {},
   "source": [
    "## Problem 8: Draw a Regular 5-sided Pentagon"
   ]
  },
  {
   "cell_type": "markdown",
   "metadata": {},
   "source": [
    "<img src=\"pentagonAnimation.gif\" width=\"100\"/>"
   ]
  },
  {
   "cell_type": "code",
   "execution_count": 14,
   "metadata": {},
   "outputs": [],
   "source": [
    "import turtle\n",
    "\n",
    "turtle.reset()\n",
    "turtle.pencolor('purple')\n",
    "turtle.pensize(5)\n",
    "\n",
    "# draw a regular pentagon\n",
    "for i in range(5):\n",
    "    turtle.forward(100)\n",
    "    turtle.left(72)"
   ]
  },
  {
   "cell_type": "markdown",
   "metadata": {},
   "source": [
    "## Problem 9: Draw a Regular Polygon with n Sides Using a Function"
   ]
  },
  {
   "cell_type": "markdown",
   "metadata": {},
   "source": [
    "**Fact**: The sum of the interior angles of a polygon with `n` sides is 360\n",
    "degrees, and so each interior angle is `360/n` degrees."
   ]
  },
  {
   "cell_type": "markdown",
   "metadata": {},
   "source": [
    "<img src=\"hexagonAnimation.gif\" width=\"100\"/>\n",
    "<img src=\"heptagonAnimation.gif\" width=\"100\"/>"
   ]
  },
  {
   "cell_type": "code",
   "execution_count": 19,
   "metadata": {},
   "outputs": [],
   "source": [
    "import turtle\n",
    "\n",
    "def polygon(num_sides, side_len):\n",
    "    for i in range(num_sides):\n",
    "        turtle.forward(side_len)\n",
    "        turtle.left(360/num_sides)\n",
    "\n",
    "turtle.reset()\n",
    "turtle.pencolor('purple')\n",
    "turtle.pensize(5)\n",
    "\n",
    "# polygon(5, 100)\n",
    "# polygon(6, 150)\n",
    "polygon(7, 200)"
   ]
  },
  {
   "cell_type": "markdown",
   "metadata": {},
   "source": [
    "## Problem 10: Draw a Circle of a Given Radius"
   ]
  },
  {
   "cell_type": "markdown",
   "metadata": {},
   "source": [
    "Implement the function `circle(radius)` that draws a circle of the given\n",
    "`radius`.\n",
    "\n",
    "Draw the circle as a 30-sided (or more) polygon. The length of each polygon side\n",
    "one-thirtieth of the circumference of the circle.\n",
    "\n",
    "*Don't* use the `turtle.circle()` function!\n",
    "\n",
    "<img src=\"circleAnimation.gif\" width=\"100\"/>"
   ]
  },
  {
   "cell_type": "code",
   "execution_count": 24,
   "metadata": {},
   "outputs": [],
   "source": [
    "import turtle\n",
    "import math\n",
    "\n",
    "def circle(radius):\n",
    "    circumference = 2 * math.pi * radius\n",
    "    n = 30\n",
    "    length = circumference / n\n",
    "    polygon(n, length)\n",
    "\n",
    "turtle.reset()\n",
    "turtle.pencolor('purple')\n",
    "turtle.pensize(5)\n",
    "\n",
    "circle(100)\n",
    "circle(50)\n",
    "circle(25)"
   ]
  },
  {
   "cell_type": "markdown",
   "metadata": {},
   "source": [
    "## Problem 11: Draw a Picture"
   ]
  },
  {
   "cell_type": "markdown",
   "metadata": {},
   "source": [
    "Use all the turtle commands and functions you've learned to draw a picture. It\n",
    "can be anything you want. Be creative!"
   ]
  },
  {
   "cell_type": "code",
   "execution_count": null,
   "metadata": {},
   "outputs": [],
   "source": [
    "# ..."
   ]
  }
 ],
 "metadata": {
  "kernelspec": {
   "display_name": "Python 3",
   "language": "python",
   "name": "python3"
  },
  "language_info": {
   "codemirror_mode": {
    "name": "ipython",
    "version": 3
   },
   "file_extension": ".py",
   "mimetype": "text/x-python",
   "name": "python",
   "nbconvert_exporter": "python",
   "pygments_lexer": "ipython3",
   "version": "3.8.10"
  }
 },
 "nbformat": 4,
 "nbformat_minor": 2
}
