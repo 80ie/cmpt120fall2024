{
 "cells": [
  {
   "cell_type": "markdown",
   "metadata": {},
   "source": [
    "# Drawing with Turtle Graphics"
   ]
  },
  {
   "cell_type": "markdown",
   "metadata": {},
   "source": [
    "To get started, if Python is not already installed on your computer, then\n",
    "[download it from the official website: https://www.python.org/downloads/](https://www.python.org/downloads/).\n",
    "\n",
    "It should include the IDLE program, and after it is installed you should run\n",
    "IDLE to start writing Python code.\n",
    "\n",
    "To use turtle graphics in Python you must put `import turtle` at the start of\n",
    "your program.\n",
    "\n",
    "Here are the turtle command you'll need to know:\n",
    "- `turtle.forward(distance)` moves the turtle forward `distance` pixels.\n",
    "- `turtle.right(angle)` turns the turtle right (clockwise) `angle` degrees.\n",
    "- `turtle.left(angle)` turns the turtle left (counter-clockwise) `angle`\n",
    "  degrees.\n",
    "- `turtle.penup()` lifts the pen up so the turtle doesn't draw while moving.\n",
    "- `turtle.pendown()` puts the pen down so the turtle does draw while moving.\n",
    "- `turtle.reset()` clears the screen and moves the turtle back to the center.\n",
    "\n",
    "While necessary for the problems below, you can use these commands to customize\n",
    "your drawings:\n",
    "- `turtle.color(color)` changes the color of the pen to `color`. For example,\n",
    "  `turtle.color(\"red\")` sets the pen color to red.\n",
    "- `turtle.pensize(width)` changes the width of the pen to `width`. For example,\n",
    "  `turtle.pensize(5)` sets the pen width to 5 pixels.\n",
    "- `turtle.speed(speed)` changes the drawing speed of the turtle. For example,\n",
    "  `turtle.speed(1)` is slowest, and `turtle.speed(10)` is fast.\n",
    "  `turtle.speed(0)` is the fastest and doesn't show the turtle moving."
   ]
  },
  {
   "cell_type": "markdown",
   "metadata": {},
   "source": [
    "## Problem 1: Draw a Square"
   ]
  },
  {
   "cell_type": "markdown",
   "metadata": {},
   "source": [
    "<img src=\"squareAnimation.gif\" width=\"100\"/>"
   ]
  },
  {
   "cell_type": "code",
   "execution_count": 1,
   "metadata": {},
   "outputs": [],
   "source": [
    "import turtle\n",
    "\n",
    "# ...\n",
    "turtle.forward(100)  # first line"
   ]
  },
  {
   "cell_type": "markdown",
   "metadata": {},
   "source": [
    "## Problem 2: Draw a Square Using a for-loop"
   ]
  },
  {
   "cell_type": "code",
   "execution_count": 5,
   "metadata": {},
   "outputs": [],
   "source": [
    "import turtle\n",
    "\n",
    "# ..."
   ]
  },
  {
   "cell_type": "markdown",
   "metadata": {},
   "source": [
    "## Problem 3: Draw a Square Using a Function"
   ]
  },
  {
   "cell_type": "code",
   "execution_count": 1,
   "metadata": {},
   "outputs": [],
   "source": [
    "import turtle\n",
    "\n",
    "# ...   \n",
    "\n",
    "#\n",
    "# Uncomment the code below to test your function. \n",
    "#\n",
    "\n",
    "# turtle.reset()\n",
    "# turtle.pencolor('purple')\n",
    "# turtle.pensize(5)\n",
    "\n",
    "# square(100)\n",
    "# square(50)\n",
    "# square(25)"
   ]
  },
  {
   "cell_type": "markdown",
   "metadata": {},
   "source": [
    "## Problem 4: Draw an Equilateral Triangle"
   ]
  },
  {
   "cell_type": "markdown",
   "metadata": {},
   "source": [
    "<img src=\"triangleAnimation.gif\" width=\"100\"/>"
   ]
  },
  {
   "cell_type": "code",
   "execution_count": 3,
   "metadata": {},
   "outputs": [],
   "source": [
    "import turtle\n",
    "\n",
    "# ..."
   ]
  },
  {
   "cell_type": "markdown",
   "metadata": {},
   "source": [
    "## Problem 5: Draw an Equilateral Triangle Using a for-loop"
   ]
  },
  {
   "cell_type": "code",
   "execution_count": 6,
   "metadata": {},
   "outputs": [],
   "source": [
    "import turtle\n",
    "\n",
    "# ..."
   ]
  },
  {
   "cell_type": "markdown",
   "metadata": {},
   "source": [
    "## Problem 6: Draw an Equilateral Triangle Using a Function"
   ]
  },
  {
   "cell_type": "code",
   "execution_count": 15,
   "metadata": {},
   "outputs": [
    {
     "ename": "KeyboardInterrupt",
     "evalue": "",
     "output_type": "error",
     "traceback": [
      "\u001b[0;31m---------------------------------------------------------------------------\u001b[0m",
      "\u001b[0;31mKeyboardInterrupt\u001b[0m                         Traceback (most recent call last)",
      "Cell \u001b[0;32mIn[15], line 38\u001b[0m\n\u001b[1;32m     34\u001b[0m         turtle\u001b[38;5;241m.\u001b[39mleft(\u001b[38;5;241m10\u001b[39m \u001b[38;5;241m*\u001b[39m i)\n\u001b[1;32m     36\u001b[0m \u001b[38;5;66;03m# flower(triangle)\u001b[39;00m\n\u001b[1;32m     37\u001b[0m \u001b[38;5;66;03m# flower(square)\u001b[39;00m\n\u001b[0;32m---> 38\u001b[0m \u001b[43mflower\u001b[49m\u001b[43m(\u001b[49m\u001b[43mstar\u001b[49m\u001b[43m)\u001b[49m\n\u001b[1;32m     40\u001b[0m \u001b[38;5;66;03m# triangle(100)\u001b[39;00m\n\u001b[1;32m     41\u001b[0m \u001b[38;5;66;03m# turtle.left(60)\u001b[39;00m\n\u001b[1;32m     42\u001b[0m \u001b[38;5;66;03m# triangle(50)\u001b[39;00m\n\u001b[1;32m     43\u001b[0m \u001b[38;5;66;03m# turtle.left(60)\u001b[39;00m\n\u001b[1;32m     44\u001b[0m \u001b[38;5;66;03m# triangle(25)\u001b[39;00m\n",
      "Cell \u001b[0;32mIn[15], line 34\u001b[0m, in \u001b[0;36mflower\u001b[0;34m(shape)\u001b[0m\n\u001b[1;32m     32\u001b[0m shape(\u001b[38;5;241m200\u001b[39m)\n\u001b[1;32m     33\u001b[0m \u001b[38;5;66;03m# r = random.randint(-10, 10)\u001b[39;00m\n\u001b[0;32m---> 34\u001b[0m \u001b[43mturtle\u001b[49m\u001b[38;5;241;43m.\u001b[39;49m\u001b[43mleft\u001b[49m\u001b[43m(\u001b[49m\u001b[38;5;241;43m10\u001b[39;49m\u001b[43m \u001b[49m\u001b[38;5;241;43m*\u001b[39;49m\u001b[43m \u001b[49m\u001b[43mi\u001b[49m\u001b[43m)\u001b[49m\n",
      "File \u001b[0;32m<string>:8\u001b[0m, in \u001b[0;36mleft\u001b[0;34m(angle)\u001b[0m\n",
      "File \u001b[0;32m/usr/lib/python3.10/turtle.py:1699\u001b[0m, in \u001b[0;36mTNavigator.left\u001b[0;34m(self, angle)\u001b[0m\n\u001b[1;32m   1680\u001b[0m \u001b[38;5;28;01mdef\u001b[39;00m \u001b[38;5;21mleft\u001b[39m(\u001b[38;5;28mself\u001b[39m, angle):\n\u001b[1;32m   1681\u001b[0m \u001b[38;5;250m    \u001b[39m\u001b[38;5;124;03m\"\"\"Turn turtle left by angle units.\u001b[39;00m\n\u001b[1;32m   1682\u001b[0m \n\u001b[1;32m   1683\u001b[0m \u001b[38;5;124;03m    Aliases: left | lt\u001b[39;00m\n\u001b[0;32m   (...)\u001b[0m\n\u001b[1;32m   1697\u001b[0m \u001b[38;5;124;03m    67.0\u001b[39;00m\n\u001b[1;32m   1698\u001b[0m \u001b[38;5;124;03m    \"\"\"\u001b[39;00m\n\u001b[0;32m-> 1699\u001b[0m     \u001b[38;5;28;43mself\u001b[39;49m\u001b[38;5;241;43m.\u001b[39;49m\u001b[43m_rotate\u001b[49m\u001b[43m(\u001b[49m\u001b[43mangle\u001b[49m\u001b[43m)\u001b[49m\n",
      "File \u001b[0;32m/usr/lib/python3.10/turtle.py:3277\u001b[0m, in \u001b[0;36mRawTurtle._rotate\u001b[0;34m(self, angle)\u001b[0m\n\u001b[1;32m   3275\u001b[0m     \u001b[38;5;28;01mfor\u001b[39;00m _ \u001b[38;5;129;01min\u001b[39;00m \u001b[38;5;28mrange\u001b[39m(steps):\n\u001b[1;32m   3276\u001b[0m         \u001b[38;5;28mself\u001b[39m\u001b[38;5;241m.\u001b[39m_orient \u001b[38;5;241m=\u001b[39m \u001b[38;5;28mself\u001b[39m\u001b[38;5;241m.\u001b[39m_orient\u001b[38;5;241m.\u001b[39mrotate(delta)\n\u001b[0;32m-> 3277\u001b[0m         \u001b[38;5;28;43mself\u001b[39;49m\u001b[38;5;241;43m.\u001b[39;49m\u001b[43m_update\u001b[49m\u001b[43m(\u001b[49m\u001b[43m)\u001b[49m\n\u001b[1;32m   3278\u001b[0m \u001b[38;5;28mself\u001b[39m\u001b[38;5;241m.\u001b[39m_orient \u001b[38;5;241m=\u001b[39m neworient\n\u001b[1;32m   3279\u001b[0m \u001b[38;5;28mself\u001b[39m\u001b[38;5;241m.\u001b[39m_update()\n",
      "File \u001b[0;32m/usr/lib/python3.10/turtle.py:2663\u001b[0m, in \u001b[0;36mRawTurtle._update\u001b[0;34m(self)\u001b[0m\n\u001b[1;32m   2661\u001b[0m     \u001b[38;5;28mself\u001b[39m\u001b[38;5;241m.\u001b[39m_drawturtle()\n\u001b[1;32m   2662\u001b[0m     screen\u001b[38;5;241m.\u001b[39m_update()                  \u001b[38;5;66;03m# TurtleScreenBase\u001b[39;00m\n\u001b[0;32m-> 2663\u001b[0m     \u001b[43mscreen\u001b[49m\u001b[38;5;241;43m.\u001b[39;49m\u001b[43m_delay\u001b[49m\u001b[43m(\u001b[49m\u001b[43mscreen\u001b[49m\u001b[38;5;241;43m.\u001b[39;49m\u001b[43m_delayvalue\u001b[49m\u001b[43m)\u001b[49m \u001b[38;5;66;03m# TurtleScreenBase\u001b[39;00m\n\u001b[1;32m   2664\u001b[0m \u001b[38;5;28;01melse\u001b[39;00m:\n\u001b[1;32m   2665\u001b[0m     \u001b[38;5;28mself\u001b[39m\u001b[38;5;241m.\u001b[39m_update_data()\n",
      "File \u001b[0;32m/usr/lib/python3.10/turtle.py:565\u001b[0m, in \u001b[0;36mTurtleScreenBase._delay\u001b[0;34m(self, delay)\u001b[0m\n\u001b[1;32m    563\u001b[0m \u001b[38;5;28;01mdef\u001b[39;00m \u001b[38;5;21m_delay\u001b[39m(\u001b[38;5;28mself\u001b[39m, delay):\n\u001b[1;32m    564\u001b[0m \u001b[38;5;250m    \u001b[39m\u001b[38;5;124;03m\"\"\"Delay subsequent canvas actions for delay ms.\"\"\"\u001b[39;00m\n\u001b[0;32m--> 565\u001b[0m     \u001b[38;5;28;43mself\u001b[39;49m\u001b[38;5;241;43m.\u001b[39;49m\u001b[43mcv\u001b[49m\u001b[38;5;241;43m.\u001b[39;49m\u001b[43mafter\u001b[49m\u001b[43m(\u001b[49m\u001b[43mdelay\u001b[49m\u001b[43m)\u001b[49m\n",
      "File \u001b[0;32m/usr/lib/python3.10/tkinter/__init__.py:834\u001b[0m, in \u001b[0;36mMisc.after\u001b[0;34m(self, ms, func, *args)\u001b[0m\n\u001b[1;32m    826\u001b[0m \u001b[38;5;250m\u001b[39m\u001b[38;5;124;03m\"\"\"Call function once after given time.\u001b[39;00m\n\u001b[1;32m    827\u001b[0m \n\u001b[1;32m    828\u001b[0m \u001b[38;5;124;03mMS specifies the time in milliseconds. FUNC gives the\u001b[39;00m\n\u001b[1;32m    829\u001b[0m \u001b[38;5;124;03mfunction which shall be called. Additional parameters\u001b[39;00m\n\u001b[1;32m    830\u001b[0m \u001b[38;5;124;03mare given as parameters to the function call.  Return\u001b[39;00m\n\u001b[1;32m    831\u001b[0m \u001b[38;5;124;03midentifier to cancel scheduling with after_cancel.\"\"\"\u001b[39;00m\n\u001b[1;32m    832\u001b[0m \u001b[38;5;28;01mif\u001b[39;00m func \u001b[38;5;129;01mis\u001b[39;00m \u001b[38;5;28;01mNone\u001b[39;00m:\n\u001b[1;32m    833\u001b[0m     \u001b[38;5;66;03m# I'd rather use time.sleep(ms*0.001)\u001b[39;00m\n\u001b[0;32m--> 834\u001b[0m     \u001b[38;5;28;43mself\u001b[39;49m\u001b[38;5;241;43m.\u001b[39;49m\u001b[43mtk\u001b[49m\u001b[38;5;241;43m.\u001b[39;49m\u001b[43mcall\u001b[49m\u001b[43m(\u001b[49m\u001b[38;5;124;43m'\u001b[39;49m\u001b[38;5;124;43mafter\u001b[39;49m\u001b[38;5;124;43m'\u001b[39;49m\u001b[43m,\u001b[49m\u001b[43m \u001b[49m\u001b[43mms\u001b[49m\u001b[43m)\u001b[49m\n\u001b[1;32m    835\u001b[0m     \u001b[38;5;28;01mreturn\u001b[39;00m \u001b[38;5;28;01mNone\u001b[39;00m\n\u001b[1;32m    836\u001b[0m \u001b[38;5;28;01melse\u001b[39;00m:\n",
      "\u001b[0;31mKeyboardInterrupt\u001b[0m: "
     ]
    }
   ],
   "source": [
    "import turtle\n",
    "\n",
    "# ...\n",
    "\n",
    "#\n",
    "# Uncomment the code below to test your function. \n",
    "#\n",
    "\n",
    "# turtle.reset()\n",
    "# turtle.pencolor('purple')\n",
    "# turtle.pensize(5)\n",
    "\n",
    "# triangle(100)\n",
    "# turtle.left(60)\n",
    "# triangle(50)\n",
    "# turtle.left(60)\n",
    "# triangle(25)"
   ]
  },
  {
   "cell_type": "markdown",
   "metadata": {},
   "source": [
    "## Problem 7: Draw a House Using the Square and Triangle Functions"
   ]
  },
  {
   "cell_type": "markdown",
   "metadata": {},
   "source": [
    "<img src=\"houseAnimation.gif\" width=\"100\"/>"
   ]
  },
  {
   "cell_type": "code",
   "execution_count": 11,
   "metadata": {},
   "outputs": [],
   "source": [
    "import turtle\n",
    "\n",
    "# ..."
   ]
  },
  {
   "cell_type": "markdown",
   "metadata": {},
   "source": [
    "## Problem 8: Draw a Regular 5-sided Pentagon"
   ]
  },
  {
   "cell_type": "markdown",
   "metadata": {},
   "source": [
    "<img src=\"pentagonAnimation.gif\" width=\"100\"/>"
   ]
  },
  {
   "cell_type": "code",
   "execution_count": 14,
   "metadata": {},
   "outputs": [],
   "source": [
    "import turtle\n",
    "\n",
    "# ..."
   ]
  },
  {
   "cell_type": "markdown",
   "metadata": {},
   "source": [
    "## Problem 9: Draw a Regular Polygon with n Sides Using a Function"
   ]
  },
  {
   "cell_type": "markdown",
   "metadata": {},
   "source": [
    "**Fact**: The sum of the interior angles of an `n`-sided polygon is 360 degrees,\n",
    "and so each interior angle is `360 / n` degrees."
   ]
  },
  {
   "cell_type": "markdown",
   "metadata": {},
   "source": [
    "<img src=\"hexagonAnimation.gif\" width=\"100\"/>\n",
    "<img src=\"heptagonAnimation.gif\" width=\"100\"/>"
   ]
  },
  {
   "cell_type": "code",
   "execution_count": 3,
   "metadata": {},
   "outputs": [],
   "source": [
    "import turtle\n",
    "\n",
    "# ...\n",
    "\n",
    "#\n",
    "# Uncomment the code below to test your function. \n",
    "#\n",
    "\n",
    "# turtle.reset()\n",
    "# turtle.pencolor('purple')\n",
    "# turtle.pensize(5)\n",
    "\n",
    "# polygon(5, 100)\n",
    "# polygon(6, 150)\n",
    "# polygon(7, 200)"
   ]
  },
  {
   "cell_type": "markdown",
   "metadata": {},
   "source": [
    "## Problem 10: Draw a Circle of a Given Radius"
   ]
  },
  {
   "cell_type": "markdown",
   "metadata": {},
   "source": [
    "Implement the function `circle(radius)` that draws a circle of the given\n",
    "`radius`.\n",
    "\n",
    "Draw the circle as a 30-sided (or more) polygon. The length of each polygon side\n",
    "one-thirtieth of the circumference of the circle.\n",
    "\n",
    "*Don't* use the `turtle.circle()` function!\n",
    "\n",
    "<img src=\"circleAnimation.gif\" width=\"100\"/>"
   ]
  },
  {
   "cell_type": "code",
   "execution_count": 24,
   "metadata": {},
   "outputs": [],
   "source": [
    "import turtle\n",
    "\n",
    "# ...\n",
    "\n",
    "#\n",
    "# Uncomment the code below to test your function. \n",
    "#\n",
    "\n",
    "# turtle.reset()\n",
    "# turtle.pencolor('purple')\n",
    "# turtle.pensize(5)\n",
    "\n",
    "# circle(100)\n",
    "# circle(50)\n",
    "# circle(25)"
   ]
  },
  {
   "cell_type": "markdown",
   "metadata": {},
   "source": [
    "## Problem 11: Draw a Picture"
   ]
  },
  {
   "cell_type": "markdown",
   "metadata": {},
   "source": [
    "Use **all** the turtle commands and functions you've learned to draw a picture.\n",
    "It can be anything you want. Be creative!"
   ]
  },
  {
   "cell_type": "code",
   "execution_count": null,
   "metadata": {},
   "outputs": [],
   "source": [
    "import turtle\n",
    "\n",
    "# ..."
   ]
  }
 ],
 "metadata": {
  "kernelspec": {
   "display_name": "Python 3",
   "language": "python",
   "name": "python3"
  },
  "language_info": {
   "codemirror_mode": {
    "name": "ipython",
    "version": 3
   },
   "file_extension": ".py",
   "mimetype": "text/x-python",
   "name": "python",
   "nbconvert_exporter": "python",
   "pygments_lexer": "ipython3",
   "version": "3.10.12"
  }
 },
 "nbformat": 4,
 "nbformat_minor": 2
}
