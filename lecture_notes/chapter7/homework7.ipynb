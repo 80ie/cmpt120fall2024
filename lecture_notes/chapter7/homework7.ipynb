{
 "cells": [
  {
   "cell_type": "markdown",
   "metadata": {},
   "source": [
    "# Homework 7"
   ]
  },
  {
   "cell_type": "markdown",
   "metadata": {},
   "source": [
    "This is based on chapter 7 of the course notes, and may introduce a few topics\n",
    "not mentioned there.\n",
    "\n",
    "You can also do the exercises at the bottom of the textbook chapter."
   ]
  },
  {
   "cell_type": "markdown",
   "metadata": {},
   "source": [
    "## Practice Question 1"
   ]
  },
  {
   "cell_type": "markdown",
   "metadata": {},
   "source": [
    "Write a function called `first_n(filename, n)` that prints the first `n` line of\n",
    "the file `filename`, in the order they occur, and with line numbers as shown\n",
    "below.\n",
    "\n",
    "For example, the file [example.txt](example.txt) contains this:\n",
    "\n",
    "```\n",
    "The road to wisdom?—Well, it’s\n",
    "plain and simple to express:\n",
    "Err\n",
    "and err\n",
    "and err again,\n",
    "but less\n",
    "and less\n",
    "and less.\n",
    "-- Piet Hein\n",
    "```\n",
    "\n",
    "`first_n('example.txt', 3)` prints:\n",
    "\n",
    "```\n",
    "1. The road to wisdom?—Well, it’s\n",
    "2. plain and simple to express:\n",
    "3. Err\n",
    "```\n",
    "\n",
    "You can assume `n` is always a non-negative integer and that it is never more\n",
    "than the number of lines in the file. This is not a practical assumption, but it\n",
    "simplifies the problem. When you are done, think about how you might handle the\n",
    "case where `n` is greater than the number of lines in the file.\n",
    "\n",
    "*Don't* use lists or other such data structures in your answer."
   ]
  },
  {
   "cell_type": "markdown",
   "metadata": {},
   "source": [
    "## Practice Question 2"
   ]
  },
  {
   "cell_type": "markdown",
   "metadata": {},
   "source": [
    "Modify the code for the Spelling Bee game in the notes so that it also prints\n",
    "the highest-scoring word. \n",
    "\n",
    "For example, for letters SIGLENP with required letter G, the output looks like\n",
    "this:\n",
    "\n",
    "```\n",
    "... list of words ...\n",
    "\n",
    "Total score: 1324\n",
    "Total scoring words: 202\n",
    "Best word: SLEEPINGS, 16 points\n",
    "```\n",
    "\n",
    "If the letters are LGXNCEI and the required letter is I, then:\n",
    "\n",
    "```\n",
    "... list of words ...\n",
    "\n",
    "Total score: 401\n",
    "Total scoring words: 72\n",
    "Best word: EXCELLING, 16 points\n",
    "```\n",
    "\n",
    "If there's more than one highest-scoring word, print the one that comes first\n",
    "alphabetically.\n",
    "\n",
    "*Don't* use lists or other such data structures in your answer. Also, keep in\n",
    "mind that [words.txt](words.txt) is already in alphabetical order."
   ]
  },
  {
   "cell_type": "markdown",
   "metadata": {},
   "source": [
    "## Practice Question 3\n",
    "\n",
    "Write a function that prints all the words in [words.txt](words.txt) that\n",
    "contain two or more *x*s (not necessarily consecutive).\n",
    "\n",
    "The output should look like this:\n",
    "\n",
    "```\n",
    "executrix has 2 x's\n",
    "executrixes has 2 x's\n",
    "exotoxic has 2 x's\n",
    "exotoxin has 2 x's\n",
    "exotoxins has 2 x's\n",
    "maxixe has 2 x's\n",
    "maxixes has 2 x's\n",
    "paxwax has 2 x's\n",
    "paxwaxes has 2 x's\n",
    "9 words have two or more x's\n",
    "```\n",
    "\n",
    "Of course, your function should word for any list of words, not just the ones in\n",
    "[words.txt](words.txt)."
   ]
  },
  {
   "cell_type": "markdown",
   "metadata": {},
   "source": [
    "## Practice Question 4"
   ]
  },
  {
   "cell_type": "markdown",
   "metadata": {},
   "source": [
    "Write a function that prints all the words in [words.txt](words.txt) that\n",
    "contain 6 or more copies of the same letter, other than *s*\n",
    "\n",
    "The output should look like this:\n",
    "\n",
    "```\n",
    "executrix has 2 x's\n",
    "executrixes has 2 x's\n",
    "exotoxic has 2 x's\n",
    "exotoxin has 2 x's\n",
    "exotoxins has 2 x's\n",
    "maxixe has 2 x's\n",
    "maxixes has 2 x's\n",
    "paxwax has 2 x's\n",
    "paxwaxes has 2 x's\n",
    "9 words have two or more x's\n",
    "```\n",
    "\n",
    "Of course, your function should word for any list of words, not just the ones in\n",
    "[words.txt](words.txt)."
   ]
  },
  {
   "cell_type": "markdown",
   "metadata": {},
   "source": [
    "## Practice Question 5\n",
    "\n",
    "Write a function that prints then number of times *a*, *e*, *i*, *o*, and *u*\n",
    "occur in in [words.txt](words.txt). Print a summary at the end.\n",
    "\n",
    "For instance, in the words *doodle*, *e* occurs 2 times, and `e` occurs 1 time.\n",
    "The result of the vowels appear 0 times.\n",
    "\n",
    "The output should look like this:\n",
    "\n",
    "```\n",
    "a: 68574\n",
    "e: 106752\n",
    "i: 77392\n",
    "o: 54538\n",
    "u: 31151\n",
    "```\n",
    "\n",
    "Of course, your function should word for any list of words, not just the ones in\n",
    "[words.txt](words.txt)."
   ]
  },
  {
   "cell_type": "markdown",
   "metadata": {},
   "source": [
    "## Practice Question 6"
   ]
  },
  {
   "cell_type": "markdown",
   "metadata": {},
   "source": [
    "Write a function that prints all the words in [words.txt](words.txt) that\n",
    "contain at least occurrence of the vowels *a*, *e*, *i*, *o*, and *u* (in any\n",
    "order, duplicates allowed).\n",
    "\n",
    "The output should look like this:\n",
    "\n",
    "```\n",
    "aboideau\n",
    "aboideaus\n",
    "aboideaux\n",
    "aboiteau\n",
    "...\n",
    "vocabularies\n",
    "voraciousness\n",
    "voraciousnesses\n",
    "warehousing\n",
    "598 words contain all five vowels\n",
    "```\n",
    "\n",
    "Of course, your function should word for any list of words, not just the ones in\n",
    "[words.txt](words.txt)."
   ]
  }
 ],
 "metadata": {
  "kernelspec": {
   "display_name": "Python 3",
   "language": "python",
   "name": "python3"
  },
  "language_info": {
   "codemirror_mode": {
    "name": "ipython",
    "version": 3
   },
   "file_extension": ".py",
   "mimetype": "text/x-python",
   "name": "python",
   "nbconvert_exporter": "python",
   "pygments_lexer": "ipython3",
   "version": "3.10.12"
  }
 },
 "nbformat": 4,
 "nbformat_minor": 2
}
