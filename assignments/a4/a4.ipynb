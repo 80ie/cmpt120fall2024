{
 "cells": [
  {
   "cell_type": "markdown",
   "metadata": {},
   "source": [
    "# Assignment 4: Turtles and Dragons\n",
    "\n",
    "*Dragons may rule the skies, but turtles rule the dragons.*"
   ]
  },
  {
   "cell_type": "markdown",
   "metadata": {},
   "source": [
    "## Getting Started"
   ]
  },
  {
   "cell_type": "markdown",
   "metadata": {},
   "source": [
    "Copy [a4.py](a4.py) to your computer, and write your solutions in that file.\n",
    "Make sure to fill out the header at the top!\n",
    "\n",
    "When you're done, submit just [a4.py](a4.py) on Canvas."
   ]
  },
  {
   "cell_type": "markdown",
   "metadata": {},
   "source": [
    "## Question 1: A First Turtle Drawing Function"
   ]
  },
  {
   "cell_type": "markdown",
   "metadata": {
    "vscode": {
     "languageId": "plaintext"
    }
   },
   "source": [
    "Create a function called `turtle_draw1(commands, step_size, turning_angle)`,\n",
    "where `commands` is a string of turtle commands (described below), and\n",
    "`step_size` and `turning_angle` are numbers. It works like this:\n",
    "\n",
    "- The turtle pen starts down.\n",
    "- For each character in `commands`:\n",
    "  - If the character is an `F`, then the turtle goes forward `step_size` pixels.\n",
    "  - If the character is an `L`, then the turtle turns left `turning_angle`\n",
    "\tdegrees.\n",
    "  - If the character is an `R`, then the turtle turns right `turning_angle`\n",
    "\tdegrees.\n",
    "  - Characters other than those above are ignored. No error messages are\n",
    "    printed.\n",
    "\n",
    "For example, this draws a rectangle:\n",
    "\n",
    "```python\n",
    "turtle_draw1('FF L FFFF L FF L FFFF', 50, 90)\n",
    "```\n",
    "\n",
    "![a rectangle](rectangle1.gif)\n",
    "\n",
    "By changing the step or angle, the same string can give a different drawing:\n",
    "\n",
    "```python\n",
    "turtle_draw1('FF L FFFF L FF L FFFF', 25, 120)\n",
    "```\n",
    "\n",
    "![rectangle with different step and angle](rectangle1_alt.gif)\n"
   ]
  },
  {
   "cell_type": "markdown",
   "metadata": {},
   "source": [
    "## Question 2: A Second Turtle Drawing Function"
   ]
  },
  {
   "cell_type": "markdown",
   "metadata": {},
   "source": [
    "Create a function called `turtle_draw2(commands, step_size, turning_angle)`\n",
    "that does everything `turtle_draw1` does, and, in addition, handles these\n",
    "characters in the commands string:\n",
    "\n",
    "- If the character is a `G`, then the turtle goes forward `step_size`\n",
    "  pixels. `G` and `F` do exactly the same thing.\n",
    "- If the character is a `+`, then the turtle turns left `turning_angle`\n",
    "  degrees. `+` and `L` do exactly the same thing.\n",
    "- If the character is a `-`, then the turtle turns right `turning_angle`\n",
    "  degrees. `-` and `R` do exactly the same thing.\n",
    "\n",
    "Characters other than those described above, or in `turtle_draw1`, are ignored\n",
    "(with *no* error messages printed).\n",
    "\n",
    "For example, this draws exactly the same rectangle as in the previous\n",
    "question:\n",
    "\n",
    "```python\n",
    "turtle_draw2('FG L FGGF - FF - FFFG', 50, 90)\n",
    "```\n",
    "\n",
    "![a rectangle](rectangle1.gif)\n",
    "\n",
    "And the same string but with different step and angle:\n",
    "\n",
    "```python\n",
    "turtle_draw2('FG L FGGF - FF - FFFG', 25, 120)\n",
    "```\n",
    "\n",
    "![rectangle with different step and angle](rectangle1_alt.gif)\n",
    "\n",
    "**Note** Having two different letters for the same command is useful for drawing\n",
    "certain [L-systems](https://en.wikipedia.org/wiki/L-system), such as the dragon\n",
    "curve below."
   ]
  },
  {
   "cell_type": "markdown",
   "metadata": {},
   "source": [
    "## Question 3: A Third Turtle Drawing Function"
   ]
  },
  {
   "cell_type": "markdown",
   "metadata": {},
   "source": [
    "Finally, create a function called `turtle_draw3(commands, step_size,\n",
    "turning_angle)` that does everything `turtle_draw2` does, and, in addition,\n",
    "handles these characters in the command string:\n",
    "\n",
    "- If the character is a `U`, then the turtle lifts up its pen (so no line is\n",
    "  drawn when when it moves). If the pen is already up, then it stays up.\n",
    "- If the character is a `D`, then the turtle puts down its pen (so a line *is*\n",
    "  drawn when it moves). If the pen is already down, then it stays down.\n",
    "- If the character is a `C`, then the turtle screen is *cleared* by calling\n",
    "  `turtle.clear()`. The turtle's position and heading are the same before and\n",
    "  after.\n",
    "- If the character is a `*`, then the turtle screen is *reset* by calling\n",
    "  `turtle.reset()`. Resetting clears the screen and puts the turtle in the\n",
    "  center facing east.\n",
    "\n",
    "The `C` and `*` commands are useful for clearing the screen in interactive\n",
    "turtle drawings. \n",
    "\n",
    "Characters other than those described above, or in `turtle_draw1` or\n",
    "`turtle_draw2`, are ignored (with *no* error messages printed).\n",
    "\n",
    "Please test your function with this:"
   ]
  },
  {
   "cell_type": "code",
   "execution_count": null,
   "metadata": {},
   "outputs": [],
   "source": [
    "import turtle\n",
    "\n",
    "def interactive_draw():\n",
    "    step_size = float(input('What is the step size? '))\n",
    "    turning_angle = float(input('What is the turning angle? '))\n",
    "    while True:\n",
    "        commands = input('turtle commands> ')\n",
    "        if commands == 'exit':\n",
    "            return\n",
    "        turtle_draw3(commands, step_size, turning_angle)"
   ]
  },
  {
   "cell_type": "markdown",
   "metadata": {},
   "source": [
    "## Question 4: Enter the Dragon"
   ]
  },
  {
   "cell_type": "markdown",
   "metadata": {},
   "source": [
    "The [dragon curve](https://en.wikipedia.org/wiki/Dragon_curve) is an example of\n",
    "a [fractal](https://en.wikipedia.org/wiki/Fractal_curve). We can draw it like\n",
    "this:\n",
    "\n",
    "```python\n",
    "def dragon_rule(commands):\n",
    "\t# ... you get to write this code, see below ...\n",
    "\n",
    "def repeat_rule(n, rule, start_commands):\n",
    "    \"\"\"Repeats the rule n times, beginning with start_commands.\n",
    "    - n is an int greater than 0.\n",
    "\n",
    "    - rule is a function (such as dragon_rule) that takes a string of commands and returns a new string of commands.\n",
    "    \n",
    "    - start_commands is a string of commands.\n",
    "    \"\"\"\n",
    "    result = start_commands\n",
    "    for i in range(n):\n",
    "        result = rule(result)\n",
    "    return result\n",
    "\n",
    "#\n",
    "# make the commands for the order 10 dragon curve\n",
    "#\n",
    "order = 10\n",
    "dragon_commands = repeat_rule(order, dragon_rule, 'F')\n",
    "\n",
    "#\n",
    "# tracer turned off to draw as quickly as possible\n",
    "#\n",
    "turtle.Screen().tracer(0)\n",
    "turtle_draw3(dragon_commands, 10, 90)\n",
    "turtle.Screen().update()\n",
    "```\n",
    "\n",
    "![order 10 dragon curve](dragonCurve10.png)\n",
    "\n",
    "This picture shows the **order 10 dragon curve**. Here is how to draw the order\n",
    "7 dragon curve:\n",
    "\n",
    "```python\n",
    "order = 7\n",
    "dragon_commands = repeat_rule(order, dragon_rule, 'F')\n",
    "turtle.speed(0)\n",
    "turtle_draw3(dragon_commands, 10, 90)\n",
    "```\n",
    "\n",
    "![order 7 dragon curve](dragonCurve7.gif)\n",
    "\n",
    "**Be careful**: the strings returned by `repeat_rule` increase in size\n",
    "exponentially, so orders much bigger than 10 can create gigantic and thus can\n",
    "slow down, or even crash, your computer.\n",
    "\n",
    "**Your task**: write the body of the `dragon_rule` function. `commands` is a\n",
    "string of turtle commands (as in previous questions), and `dragon_rule` returns\n",
    "a new string based in it. It goes through the characters in `commands`, one at\n",
    "time, and creates a new result string following these rules:\n",
    "\n",
    "- If the character is an `F`, then append `F+G` to the result string.\n",
    "- If the character is a `G`, then append `F-G` to the result string.\n",
    "- For any other character, append it unchanged to the result string.\n",
    "\n",
    "```python\n",
    "print(dragon_rule('F'))        # 'F+G'\n",
    "print(dragon_rule('F+G'))      # 'F+G+F-G'\n",
    "print(dragon_rule('F+G+F-G'))  # 'F+G+F-G+F+G-F-G'\n",
    "```\n",
    "\n",
    "Use this function to help test your `dragon_rule`:"
   ]
  },
  {
   "cell_type": "code",
   "execution_count": 20,
   "metadata": {},
   "outputs": [],
   "source": [
    "def test_dragon_rule():\n",
    "    assert dragon_rule('F') == 'F+G'\n",
    "    assert dragon_rule('F+G') == 'F+G+F-G'\n",
    "    assert dragon_rule('F+G+F-G') == 'F+G+F-G+F+G-F-G'\n",
    "    assert dragon_rule('G') == 'F-G'\n",
    "    assert dragon_rule('FG') == 'F+GF-G'\n",
    "    print('All dragon rule tests pass')"
   ]
  },
  {
   "cell_type": "markdown",
   "metadata": {},
   "source": [
    "**Note** `assert expr` is a Python statement that raises an exception if `expr`\n",
    "is `False`. If `expr` is `True` it does nothing (and the program continues), but\n",
    "if `expr` is `False` it intentionally crashes the program. This is a quick and\n",
    "easy way to test a function. If any assertions fail then the function has a bug,\n",
    "or the test is wrong."
   ]
  },
  {
   "cell_type": "markdown",
   "metadata": {},
   "source": [
    "## Question 5: Turtle Lists"
   ]
  },
  {
   "cell_type": "markdown",
   "metadata": {},
   "source": [
    "A limitation of turtle commands strings is they don't include the step size or\n",
    "turning angle. So, lets include them by defining a **turtle list** as a Python\n",
    "list formatted like this:\n",
    "\n",
    "```python\n",
    "[step_size, turning_angle, turtle_commands]\n",
    "```\n",
    "\n",
    "In particular:\n",
    "\n",
    "- it's a list\n",
    "- it's length is exactly 3\n",
    "- `step_size` is a `float` or `int` that is greater than 0, representing the\n",
    "  *step size* for the string of turtle commands\n",
    "- `turning_angle` is *any* `float` or `int`, representing the *turning angle*\n",
    "  for the string of turtle commands\n",
    "- `turtle_commands` is *any* string; normally it will be a string of turtle\n",
    "  commands that you would give to a function like `turtle_draw3`\n",
    "\n",
    "Create a function called `is_turtle_list(x)` that returns `True` just when `x`\n",
    "is a turtle list, and `False` otherwise.\n",
    "\n",
    "For example:\n",
    "\n",
    "```python\n",
    "print(is_turtle_list([1, 2, 'FF']))                        # True\n",
    "print(is_turtle_list([25, 120, 'FF L FFFF L FF L FFFF']))  # True\n",
    "print(is_turtle_list([40.33, -29.3, 'any string works']))  # True\n",
    "print(is_turtle_list([40.33, -29.3, '']))                  # True\n",
    "\n",
    "print(is_turtle_list([-1, 2, 'FF']))                       # False\n",
    "print(is_turtle_list([1, 'FF']))                           # False\n",
    "print(is_turtle_list([1, 2, 'FF', 'FLFF']))                # False\n",
    "\n",
    "print(is_turtle_list([1, 'FF']))                           # False\n",
    "print(is_turtle_list(['FF']))                              # False\n",
    "print(is_turtle_list('FF'))                                # False\n",
    "\n",
    "print(is_turtle_list([]))                                  # False\n",
    "```\n",
    "\n",
    "Use this function to help you test your `is_turtle_list` function:"
   ]
  },
  {
   "cell_type": "code",
   "execution_count": 5,
   "metadata": {},
   "outputs": [],
   "source": [
    "def test_is_turtle_list():\n",
    "    assert is_turtle_list([1, 2, 'FF'])\n",
    "    assert is_turtle_list([25, 120, 'FF L FFFF L FF L FFFF'])\n",
    "    assert is_turtle_list([40.33, -29.3, 'any string works'])\n",
    "    assert is_turtle_list([40.33, -29.3, ''])\n",
    "\n",
    "    assert not is_turtle_list([-1, 2, 'FF'])\n",
    "    assert not is_turtle_list([1, 'FF'])\n",
    "    assert not is_turtle_list([1, 2, 'FF', 'FLFF'])\n",
    "\n",
    "    assert not is_turtle_list([1, 'FF']) \n",
    "    assert not is_turtle_list(['FF'])\n",
    "    assert not is_turtle_list('FF')\n",
    "\n",
    "    assert not is_turtle_list([])\n",
    "    \n",
    "    print('All is_turtle_list tests pass')"
   ]
  },
  {
   "cell_type": "markdown",
   "metadata": {},
   "source": [
    "In this question it's possible that you might have lines more than 100\n",
    "characters long. You can split a long line with the `\\` character. For example,\n",
    "this function:"
   ]
  },
  {
   "cell_type": "code",
   "execution_count": null,
   "metadata": {},
   "outputs": [],
   "source": [
    "def in_range(x, lo, hi):\n",
    "    return lo <= x and x <= hi"
   ]
  },
  {
   "cell_type": "markdown",
   "metadata": {},
   "source": [
    "Could be written like this:"
   ]
  },
  {
   "cell_type": "code",
   "execution_count": 2,
   "metadata": {},
   "outputs": [
    {
     "name": "stdout",
     "output_type": "stream",
     "text": [
      "True\n",
      "False\n"
     ]
    }
   ],
   "source": [
    "def in_range(x, lo, hi):\\\n",
    "    # \\ is the line continuation character\n",
    "    return lo <= x \\\n",
    "       and x <= hi\n",
    "\n",
    "print(in_range(3, 1, 5))  # True\n",
    "print(in_range(6, 1, 5))  # False"
   ]
  },
  {
   "cell_type": "markdown",
   "metadata": {},
   "source": [
    "## Question 6: Drawing a Turtle List"
   ]
  },
  {
   "cell_type": "markdown",
   "metadata": {},
   "source": [
    "Create a function called `draw_turtle_list(lst)` that draws the turtle commands\n",
    "in the turtle list `lst` using `turtle_draw3`. If `lst` is not a valid turtle\n",
    "list, then it does nothing except print a friendly and helpful error message.\n",
    "\n",
    "For example:\n",
    "\n",
    "```python\n",
    "turtle_list = [50, 90, \n",
    "               '*FF L FFFF L FF L FFFF UFFFD FF L FFFF L FF L FFFF'\n",
    "              ]\n",
    "```\n",
    "\n",
    "Calling `draw_turtle_list(turtle_list)` draws two rectangles:\n",
    "\n",
    "![two rectangles](twoRectangles.gif)\n",
    "\n",
    "Here's an example of calling it with an invalid turtle list:\n",
    "\n",
    "```python\n",
    "print(draw_turtle_list([1, 2, 3, 'FFLFF']))\n",
    "# error: [1, 2, 3, 'FFLFF'] is not a valid turtle list \n",
    "```"
   ]
  },
  {
   "cell_type": "markdown",
   "metadata": {},
   "source": [
    "## Question 7: Dragon Lists"
   ]
  },
  {
   "cell_type": "markdown",
   "metadata": {},
   "source": [
    "Create a function called `make_dragon_list(n, step_size)` that returns a turtle\n",
    "list whose command string is the dragon curve returned by `repeat_rule(n,\n",
    "dragon_rule, 'F')`.\n",
    "\n",
    "For example:\n",
    "\n",
    "```python\n",
    "print(make_dragon_list(5, 90))\n",
    "# [5, 90, 'F+G+F-G+F+G-F-G+F+G+F-G-F+G-F-G+F+G+F-G+F+G-F-G-F+G+F-G-F+G-F-G']\n",
    "```\n",
    "\n",
    "Calling `draw_turtle_list(make_dragon_list(5, 90))` draws the order 5 dragon\n",
    "curve:\n",
    "\n",
    "![order 5 dragon curve](dragonCurve5.gif)"
   ]
  },
  {
   "cell_type": "markdown",
   "metadata": {},
   "source": [
    "## Marking Scheme"
   ]
  },
  {
   "cell_type": "markdown",
   "metadata": {},
   "source": [
    "**2 marks** each for questions 1 to 7 (a total of 14 marks)\n",
    "\n",
    "**2 marks** overall: consistent indentation and spacing (all blank lines and\n",
    "spaces should have a good reason for being there)\n",
    "\n",
    "**1 mark** overall: all variable and function names are self-descriptive\n",
    "\n",
    "**1 mark** overall: the length of each line of the file is 100 characters or\n",
    "less"
   ]
  }
 ],
 "metadata": {
  "kernelspec": {
   "display_name": "Python 3",
   "language": "python",
   "name": "python3"
  },
  "language_info": {
   "codemirror_mode": {
    "name": "ipython",
    "version": 3
   },
   "file_extension": ".py",
   "mimetype": "text/x-python",
   "name": "python",
   "nbconvert_exporter": "python",
   "pygments_lexer": "ipython3",
   "version": "3.8.10"
  }
 },
 "nbformat": 4,
 "nbformat_minor": 2
}
